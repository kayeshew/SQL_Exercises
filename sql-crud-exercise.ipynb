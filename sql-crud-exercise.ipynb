{
 "cells": [
  {
   "cell_type": "markdown",
   "metadata": {},
   "source": [
    "## PRACTICE EXERCISE\n",
    "  \n",
    "**Objective:**\n",
    "Practice performing CRUD operations (Create, Read, Update, Delete) on a database table.\n",
    "\n",
    "**Perform the following tasks:**\n",
    "1. Create a new table named `Books`, with the following columns:\n",
    "    * BookID (Primary Key, Auto-increment)\n",
    "    * Title (Title of the book)\n",
    "    * Author (Author of the book)\n",
    "    * Genre (Genre of the book)\n",
    "    * Publication_Year (Year of publication)\n",
    "    * Price (Price of the Book)\n",
    "2. Insert at least 3 new books into the `Books` table.\n",
    "3. Retrieve all books from the Books table.\n",
    "4. Update the price of a specific book.\n",
    "5. Delete a book from the table."
   ]
  },
  {
   "cell_type": "code",
   "execution_count": 3,
   "metadata": {},
   "outputs": [],
   "source": [
    "%load_ext sql"
   ]
  },
  {
   "cell_type": "code",
   "execution_count": 8,
   "metadata": {},
   "outputs": [],
   "source": [
    "%sql sqlite:///sql-database.db"
   ]
  },
  {
   "cell_type": "markdown",
   "metadata": {},
   "source": [
    "### 1. Create table name `Books`"
   ]
  },
  {
   "cell_type": "code",
   "execution_count": 27,
   "metadata": {},
   "outputs": [
    {
     "name": "stdout",
     "output_type": "stream",
     "text": [
      " * sqlite:///sql-database.db\n",
      "Done.\n"
     ]
    },
    {
     "data": {
      "text/plain": [
       "[]"
      ]
     },
     "execution_count": 27,
     "metadata": {},
     "output_type": "execute_result"
    }
   ],
   "source": [
    "%%sql CREATE TABLE Books (\n",
    "    BookID INTEGER PRIMARY KEY AUTOINCREMENT,\n",
    "    Title VARCHAR(100) NOT NULL,\n",
    "    Author VARCHAR(100) NOT NULL,\n",
    "    Genre VARCHAR(50),\n",
    "    Publication_Year INT,\n",
    "    Price DECIMAL(10, 2) NOT NULL\n",
    ");"
   ]
  },
  {
   "cell_type": "markdown",
   "metadata": {},
   "source": [
    "### 2. Insert at least 3 new books into the `Books` table."
   ]
  },
  {
   "cell_type": "code",
   "execution_count": 29,
   "metadata": {},
   "outputs": [
    {
     "name": "stdout",
     "output_type": "stream",
     "text": [
      " * sqlite:///sql-database.db\n",
      "3 rows affected.\n"
     ]
    },
    {
     "data": {
      "text/plain": [
       "[]"
      ]
     },
     "execution_count": 29,
     "metadata": {},
     "output_type": "execute_result"
    }
   ],
   "source": [
    "%%sql\n",
    "INSERT INTO Books (Title, Author, Genre, Publication_Year, Price)\n",
    "VALUES ('How to Win Friends and Influence People', 'Dale Carnegie', 'Self-Help', '2010', 599.00),\n",
    "       (\"You've Reached Sam: A Novel\", 'Dustin Thao', 'Romance', '2021', 595.00),\n",
    "       ('The Unbearable Lightness of Being', 'Milan Kundera', 'Contemporary Fiction', '2005', 350.00);"
   ]
  },
  {
   "cell_type": "markdown",
   "metadata": {},
   "source": [
    "### 3. Retrieve all books from the Books table."
   ]
  },
  {
   "cell_type": "code",
   "execution_count": 30,
   "metadata": {},
   "outputs": [
    {
     "name": "stdout",
     "output_type": "stream",
     "text": [
      " * sqlite:///sql-database.db\n",
      "Done.\n"
     ]
    },
    {
     "data": {
      "text/html": [
       "<table>\n",
       "    <thead>\n",
       "        <tr>\n",
       "            <th>BookID</th>\n",
       "            <th>Title</th>\n",
       "            <th>Author</th>\n",
       "            <th>Genre</th>\n",
       "            <th>Publication_Year</th>\n",
       "            <th>Price</th>\n",
       "        </tr>\n",
       "    </thead>\n",
       "    <tbody>\n",
       "        <tr>\n",
       "            <td>1</td>\n",
       "            <td>How to Win Friends and Influence People</td>\n",
       "            <td>Dale Carnegie</td>\n",
       "            <td>Self-Help</td>\n",
       "            <td>2010</td>\n",
       "            <td>599</td>\n",
       "        </tr>\n",
       "        <tr>\n",
       "            <td>2</td>\n",
       "            <td>You&#x27;ve Reached Sam: A Novel</td>\n",
       "            <td>Dustin Thao</td>\n",
       "            <td>Romance</td>\n",
       "            <td>2021</td>\n",
       "            <td>595</td>\n",
       "        </tr>\n",
       "        <tr>\n",
       "            <td>3</td>\n",
       "            <td>The Unbearable Lightness of Being</td>\n",
       "            <td>Milan Kundera</td>\n",
       "            <td>Contemporary Fiction</td>\n",
       "            <td>2005</td>\n",
       "            <td>350</td>\n",
       "        </tr>\n",
       "    </tbody>\n",
       "</table>"
      ],
      "text/plain": [
       "[(1, 'How to Win Friends and Influence People', 'Dale Carnegie', 'Self-Help', 2010, 599),\n",
       " (2, \"You've Reached Sam: A Novel\", 'Dustin Thao', 'Romance', 2021, 595),\n",
       " (3, 'The Unbearable Lightness of Being', 'Milan Kundera', 'Contemporary Fiction', 2005, 350)]"
      ]
     },
     "execution_count": 30,
     "metadata": {},
     "output_type": "execute_result"
    }
   ],
   "source": [
    "%sql SELECT * FROM Books;"
   ]
  },
  {
   "cell_type": "markdown",
   "metadata": {},
   "source": [
    "### 4. Update the price of a specific book."
   ]
  },
  {
   "cell_type": "code",
   "execution_count": 31,
   "metadata": {},
   "outputs": [
    {
     "name": "stdout",
     "output_type": "stream",
     "text": [
      " * sqlite:///sql-database.db\n",
      "1 rows affected.\n"
     ]
    },
    {
     "data": {
      "text/plain": [
       "[]"
      ]
     },
     "execution_count": 31,
     "metadata": {},
     "output_type": "execute_result"
    }
   ],
   "source": [
    "%%sql UPDATE Books\n",
    "SET Price = 560.00\n",
    "WHERE BookID = 2;"
   ]
  },
  {
   "cell_type": "code",
   "execution_count": 32,
   "metadata": {},
   "outputs": [
    {
     "name": "stdout",
     "output_type": "stream",
     "text": [
      " * sqlite:///sql-database.db\n",
      "Done.\n"
     ]
    },
    {
     "data": {
      "text/html": [
       "<table>\n",
       "    <thead>\n",
       "        <tr>\n",
       "            <th>BookID</th>\n",
       "            <th>Title</th>\n",
       "            <th>Author</th>\n",
       "            <th>Genre</th>\n",
       "            <th>Publication_Year</th>\n",
       "            <th>Price</th>\n",
       "        </tr>\n",
       "    </thead>\n",
       "    <tbody>\n",
       "        <tr>\n",
       "            <td>1</td>\n",
       "            <td>How to Win Friends and Influence People</td>\n",
       "            <td>Dale Carnegie</td>\n",
       "            <td>Self-Help</td>\n",
       "            <td>2010</td>\n",
       "            <td>599</td>\n",
       "        </tr>\n",
       "        <tr>\n",
       "            <td>2</td>\n",
       "            <td>You&#x27;ve Reached Sam: A Novel</td>\n",
       "            <td>Dustin Thao</td>\n",
       "            <td>Romance</td>\n",
       "            <td>2021</td>\n",
       "            <td>560</td>\n",
       "        </tr>\n",
       "        <tr>\n",
       "            <td>3</td>\n",
       "            <td>The Unbearable Lightness of Being</td>\n",
       "            <td>Milan Kundera</td>\n",
       "            <td>Contemporary Fiction</td>\n",
       "            <td>2005</td>\n",
       "            <td>350</td>\n",
       "        </tr>\n",
       "    </tbody>\n",
       "</table>"
      ],
      "text/plain": [
       "[(1, 'How to Win Friends and Influence People', 'Dale Carnegie', 'Self-Help', 2010, 599),\n",
       " (2, \"You've Reached Sam: A Novel\", 'Dustin Thao', 'Romance', 2021, 560),\n",
       " (3, 'The Unbearable Lightness of Being', 'Milan Kundera', 'Contemporary Fiction', 2005, 350)]"
      ]
     },
     "execution_count": 32,
     "metadata": {},
     "output_type": "execute_result"
    }
   ],
   "source": [
    "%sql SELECT * FROM Books;"
   ]
  },
  {
   "cell_type": "markdown",
   "metadata": {},
   "source": [
    "### 5. Delete a book from the table."
   ]
  },
  {
   "cell_type": "code",
   "execution_count": 33,
   "metadata": {},
   "outputs": [
    {
     "name": "stdout",
     "output_type": "stream",
     "text": [
      " * sqlite:///sql-database.db\n",
      "1 rows affected.\n"
     ]
    },
    {
     "data": {
      "text/plain": [
       "[]"
      ]
     },
     "execution_count": 33,
     "metadata": {},
     "output_type": "execute_result"
    }
   ],
   "source": [
    "%%sql DELETE FROM Books\n",
    "WHERE BookID = 3;"
   ]
  },
  {
   "cell_type": "code",
   "execution_count": 34,
   "metadata": {},
   "outputs": [
    {
     "name": "stdout",
     "output_type": "stream",
     "text": [
      " * sqlite:///sql-database.db\n",
      "Done.\n"
     ]
    },
    {
     "data": {
      "text/html": [
       "<table>\n",
       "    <thead>\n",
       "        <tr>\n",
       "            <th>BookID</th>\n",
       "            <th>Title</th>\n",
       "            <th>Author</th>\n",
       "            <th>Genre</th>\n",
       "            <th>Publication_Year</th>\n",
       "            <th>Price</th>\n",
       "        </tr>\n",
       "    </thead>\n",
       "    <tbody>\n",
       "        <tr>\n",
       "            <td>1</td>\n",
       "            <td>How to Win Friends and Influence People</td>\n",
       "            <td>Dale Carnegie</td>\n",
       "            <td>Self-Help</td>\n",
       "            <td>2010</td>\n",
       "            <td>599</td>\n",
       "        </tr>\n",
       "        <tr>\n",
       "            <td>2</td>\n",
       "            <td>You&#x27;ve Reached Sam: A Novel</td>\n",
       "            <td>Dustin Thao</td>\n",
       "            <td>Romance</td>\n",
       "            <td>2021</td>\n",
       "            <td>560</td>\n",
       "        </tr>\n",
       "    </tbody>\n",
       "</table>"
      ],
      "text/plain": [
       "[(1, 'How to Win Friends and Influence People', 'Dale Carnegie', 'Self-Help', 2010, 599),\n",
       " (2, \"You've Reached Sam: A Novel\", 'Dustin Thao', 'Romance', 2021, 560)]"
      ]
     },
     "execution_count": 34,
     "metadata": {},
     "output_type": "execute_result"
    }
   ],
   "source": [
    "%sql SELECT * FROM Books;"
   ]
  }
 ],
 "metadata": {
  "kernelspec": {
   "display_name": "Python 3",
   "language": "python",
   "name": "python3"
  },
  "language_info": {
   "codemirror_mode": {
    "name": "ipython",
    "version": 3
   },
   "file_extension": ".py",
   "mimetype": "text/x-python",
   "name": "python",
   "nbconvert_exporter": "python",
   "pygments_lexer": "ipython3",
   "version": "3.12.4"
  }
 },
 "nbformat": 4,
 "nbformat_minor": 2
}
